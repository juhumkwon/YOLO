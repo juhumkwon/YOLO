{
  "nbformat": 4,
  "nbformat_minor": 0,
  "metadata": {
    "colab": {
      "provenance": [],
      "authorship_tag": "ABX9TyPURpmClb8SGrgBPEz8cgEZ",
      "include_colab_link": true
    },
    "kernelspec": {
      "name": "python3",
      "display_name": "Python 3"
    },
    "language_info": {
      "name": "python"
    }
  },
  "cells": [
    {
      "cell_type": "markdown",
      "metadata": {
        "id": "view-in-github",
        "colab_type": "text"
      },
      "source": [
        "<a href=\"https://colab.research.google.com/github/juhumkwon/YOLO/blob/main/1_1_YOLO%EC%A0%84%EC%9D%B4%ED%95%99%EC%8A%B5%EA%B3%BC%EC%A0%95.ipynb\" target=\"_parent\"><img src=\"https://colab.research.google.com/assets/colab-badge.svg\" alt=\"Open In Colab\"/></a>"
      ]
    },
    {
      "cell_type": "code",
      "execution_count": null,
      "metadata": {
        "id": "fGfS2Z1VAruw"
      },
      "outputs": [],
      "source": [
        "from google.colab import drive\n",
        "drive.mount('/content/drive')\n",
        "\n",
        "import os\n",
        "file_path = '/content/drive/My Drive'\n",
        "print(os.listdir(file_path))\n"
      ]
    },
    {
      "cell_type": "code",
      "source": [
        "!pip install torch torchvision numpy pandas opencv-python\n",
        "!git clone https://github.com/ultralytics/yolov5.git\n",
        "!cd yolov5\n",
        "!pip install -r requirements.txt\n"
      ],
      "metadata": {
        "id": "Zc6f0YB-BJwC"
      },
      "execution_count": null,
      "outputs": []
    },
    {
      "cell_type": "code",
      "source": [
        "# YOLOv5 전이 학습\n",
        "\n",
        "import os\n",
        "from pathlib import Path\n",
        "\n",
        "# YOLOv5 라이브러리 가져오기\n",
        "from yolov5 import train\n",
        "\n",
        "# 커스텀 데이터셋 경로\n",
        "DATASET_YAML = \"path/to/your/dataset.yaml\"  # YAML 파일 경로 (예: 'data/coco128.yaml')\n",
        "PRETRAINED_MODEL = \"yolov5s.pt\"  # 사전 학습된 모델 (yolov5s, yolov5m 등)\n",
        "\n",
        "# 저장 경로 설정\n",
        "SAVE_DIR = \"runs/train_custom\"  # 학습 결과 저장 경로\n",
        "\n",
        "# 학습 파라미터 설정\n",
        "EPOCHS = 50  # 학습 반복 횟수\n",
        "BATCH_SIZE = 16  # 배치 크기\n",
        "IMG_SIZE = 640  # 입력 이미지 크기\n",
        "\n",
        "def main():\n",
        "    # YOLOv5 훈련 실행\n",
        "    train.run(\n",
        "        data=DATASET_YAML,\n",
        "        weights=PRETRAINED_MODEL,\n",
        "        epochs=EPOCHS,\n",
        "        batch_size=BATCH_SIZE,\n",
        "        img_size=IMG_SIZE,\n",
        "        project=SAVE_DIR,\n",
        "        name=\"exp\",\n",
        "    )\n",
        "\n",
        "if __name__ == \"__main__\":\n",
        "    main()\n"
      ],
      "metadata": {
        "id": "c4xlWIWBBIGH"
      },
      "execution_count": null,
      "outputs": []
    },
    {
      "cell_type": "code",
      "source": [
        "# 데이터셋 준비\n",
        "# 데이터셋은 YOLO 포맷(이미지와 라벨 파일)이어야 하며, dataset.yaml 파일로 정의해야 합니다.\n",
        "\n",
        "train: ../data/train/images  # 학습 이미지 경로\n",
        "val: ../data/val/images      # 검증 이미지 경로\n",
        "\n",
        "# 클래스 이름 (예: 2개 클래스인 경우)\n",
        "names:\n",
        "  0: cat\n",
        "  1: dog\n"
      ],
      "metadata": {
        "id": "HBVQUIArBxhD"
      },
      "execution_count": null,
      "outputs": []
    },
    {
      "cell_type": "code",
      "source": [
        "# 추론 코드\n",
        "# YOLOv5로 학습된 모델을 이용하여 추론하는 간단한 예제 프로그램을 아래에 제공합니다.\n",
        "# 이 코드는 학습된 모델(best.pt)을 사용하여 이미지나 동영상에서 객체를 감지합니다.\n",
        "\n",
        "import torch\n",
        "from pathlib import Path\n",
        "import cv2\n",
        "import matplotlib.pyplot as plt\n",
        "\n",
        "# 학습된 모델 경로\n",
        "MODEL_PATH = \"runs/train_custom/exp/weights/best.pt\"  # 학습된 모델 파일 경로\n",
        "IMAGE_PATH = \"path/to/your/image.jpg\"  # 추론할 이미지 경로\n",
        "VIDEO_PATH = \"path/to/your/video.mp4\"  # 추론할 동영상 경로 (옵션)\n",
        "\n",
        "# 모델 로드\n",
        "model = torch.hub.load('ultralytics/yolov5', 'custom', path=MODEL_PATH)  # 사용자 정의 모델 로드\n",
        "\n",
        "def infer_image(image_path):\n",
        "    # 이미지 로드 및 추론\n",
        "    results = model(image_path)\n",
        "\n",
        "    # 추론 결과 시각화\n",
        "    results.render()  # 이미지 위에 박스와 라벨 그리기\n",
        "    for img in results.imgs:\n",
        "        plt.imshow(img[..., ::-1])  # BGR -> RGB로 변환\n",
        "        plt.axis(\"off\")\n",
        "        plt.show()\n",
        "\n",
        "def infer_video(video_path, output_path=\"output.mp4\"):\n",
        "    # 동영상 로드\n",
        "    cap = cv2.VideoCapture(video_path)\n",
        "    width = int(cap.get(cv2.CAP_PROP_FRAME_WIDTH))\n",
        "    height = int(cap.get(cv2.CAP_PROP_FRAME_HEIGHT))\n",
        "    fps = int(cap.get(cv2.CAP_PROP_FPS))\n",
        "    fourcc = cv2.VideoWriter_fourcc(*\"mp4v\")  # MP4 코덱\n",
        "    out = cv2.VideoWriter(output_path, fourcc, fps, (width, height))\n",
        "\n",
        "    while cap.isOpened():\n",
        "        ret, frame = cap.read()\n",
        "        if not ret:\n",
        "            break\n",
        "\n",
        "        # 추론 수행\n",
        "        results = model(frame)\n",
        "\n",
        "        # 추론 결과 이미지 위에 그리기\n",
        "        for box in results.xyxy[0]:\n",
        "            x1, y1, x2, y2, conf, cls = map(int, box[:6])\n",
        "            label = f\"{model.names[cls]} {conf:.2f}\"\n",
        "            cv2.rectangle(frame, (x1, y1), (x2, y2), (0, 255, 0), 2)\n",
        "            cv2.putText(frame, label, (x1, y1 - 10), cv2.FONT_HERSHEY_SIMPLEX, 0.5, (0, 255, 0), 2)\n",
        "\n",
        "        out.write(frame)  # 결과 저장\n",
        "        cv2.imshow(\"YOLOv5 Inference\", frame)\n",
        "        if cv2.waitKey(1) & 0xFF == ord(\"q\"):\n",
        "            break\n",
        "\n",
        "    cap.release()\n",
        "    out.release()\n",
        "    cv2.destroyAllWindows()\n",
        "\n",
        "if __name__ == \"__main__\":\n",
        "    # 이미지 추론\n",
        "    infer_image(IMAGE_PATH)\n",
        "\n",
        "    # 동영상 추론 (옵션)\n",
        "    # infer_video(VIDEO_PATH, output_path=\"output_inference.mp4\")\n"
      ],
      "metadata": {
        "id": "kP9r1SQ4B7l0"
      },
      "execution_count": null,
      "outputs": []
    },
    {
      "cell_type": "code",
      "source": [
        "# 이미지 추론 예제 코드\n",
        "\n",
        "import torch\n",
        "import cv2\n",
        "import matplotlib.pyplot as plt\n",
        "\n",
        "# 학습된 모델 경로\n",
        "MODEL_PATH = \"runs/train_custom/exp/weights/best.pt\"  # 학습된 모델 파일 경로\n",
        "IMAGE_PATH = \"path/to/your/image.jpg\"  # 추론할 이미지 경로\n",
        "\n",
        "# 모델 로드\n",
        "model = torch.hub.load('ultralytics/yolov5', 'custom', path=MODEL_PATH)  # 사용자 정의 모델 로드\n",
        "\n",
        "def infer_image(image_path):\n",
        "    # 이미지 로드 및 추론\n",
        "    results = model(image_path)\n",
        "\n",
        "    # 추론 결과 시각화\n",
        "    results.render()  # 이미지 위에 박스와 라벨 그리기\n",
        "\n",
        "    # 결과 이미지 시각화\n",
        "    for img in results.imgs:\n",
        "        plt.imshow(img[..., ::-1])  # BGR -> RGB로 변환\n",
        "        plt.axis(\"off\")\n",
        "        plt.show()\n",
        "\n",
        "if __name__ == \"__main__\":\n",
        "    # 이미지 추론\n",
        "    infer_image(IMAGE_PATH)\n"
      ],
      "metadata": {
        "id": "PC0Kbt1OCFbX"
      },
      "execution_count": null,
      "outputs": []
    }
  ]
}